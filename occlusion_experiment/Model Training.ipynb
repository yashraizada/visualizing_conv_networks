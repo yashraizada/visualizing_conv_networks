{
 "cells": [
  {
   "cell_type": "code",
   "execution_count": 1,
   "metadata": {
    "_cell_guid": "79c7e3d0-c299-4dcb-8224-4455121ee9b0",
    "_uuid": "d629ff2d2480ee46fbb7e2d37f6b5fab8052498a"
   },
   "outputs": [
    {
     "name": "stderr",
     "output_type": "stream",
     "text": [
      "Using TensorFlow backend.\n"
     ]
    }
   ],
   "source": [
    "import numpy as np\n",
    "import matplotlib.pyplot as plt\n",
    "\n",
    "from keras.datasets import cifar10\n",
    "from keras.utils import to_categorical\n",
    "from keras.models import Sequential\n",
    "from keras.layers import Conv2D, MaxPooling2D, Dropout, BatchNormalization, Flatten, Dense\n",
    "from keras.preprocessing.image import ImageDataGenerator"
   ]
  },
  {
   "cell_type": "code",
   "execution_count": 2,
   "metadata": {},
   "outputs": [
    {
     "name": "stdout",
     "output_type": "stream",
     "text": [
      "Downloading data from https://www.cs.toronto.edu/~kriz/cifar-10-python.tar.gz\n",
      "170500096/170498071 [==============================] - 2s 0us/step\n"
     ]
    }
   ],
   "source": [
    "# load dataset\n",
    "(X_train, y_train), (X_test, y_test) = cifar10.load_data()\n",
    "\n",
    "# one hot encode target values\n",
    "y_train = to_categorical(y_train)\n",
    "y_test = to_categorical(y_test)\n",
    "\n",
    "# convert from integers to floats\n",
    "X_train = X_train.astype('float32')\n",
    "X_test = X_test.astype('float32')\n",
    "\n",
    "# normalize to range 0-1\n",
    "X_train = X_train / 255.0\n",
    "X_test = X_test / 255.0"
   ]
  },
  {
   "cell_type": "code",
   "execution_count": 3,
   "metadata": {},
   "outputs": [
    {
     "name": "stdout",
     "output_type": "stream",
     "text": [
      "Model: \"sequential_1\"\n",
      "_________________________________________________________________\n",
      "Layer (type)                 Output Shape              Param #   \n",
      "=================================================================\n",
      "conv2d_1 (Conv2D)            (None, 32, 32, 32)        896       \n",
      "_________________________________________________________________\n",
      "batch_normalization_1 (Batch (None, 32, 32, 32)        128       \n",
      "_________________________________________________________________\n",
      "conv2d_2 (Conv2D)            (None, 32, 32, 32)        9248      \n",
      "_________________________________________________________________\n",
      "batch_normalization_2 (Batch (None, 32, 32, 32)        128       \n",
      "_________________________________________________________________\n",
      "max_pooling2d_1 (MaxPooling2 (None, 16, 16, 32)        0         \n",
      "_________________________________________________________________\n",
      "dropout_1 (Dropout)          (None, 16, 16, 32)        0         \n",
      "_________________________________________________________________\n",
      "conv2d_3 (Conv2D)            (None, 16, 16, 64)        18496     \n",
      "_________________________________________________________________\n",
      "batch_normalization_3 (Batch (None, 16, 16, 64)        256       \n",
      "_________________________________________________________________\n",
      "conv2d_4 (Conv2D)            (None, 16, 16, 64)        36928     \n",
      "_________________________________________________________________\n",
      "batch_normalization_4 (Batch (None, 16, 16, 64)        256       \n",
      "_________________________________________________________________\n",
      "max_pooling2d_2 (MaxPooling2 (None, 8, 8, 64)          0         \n",
      "_________________________________________________________________\n",
      "dropout_2 (Dropout)          (None, 8, 8, 64)          0         \n",
      "_________________________________________________________________\n",
      "conv2d_5 (Conv2D)            (None, 8, 8, 128)         73856     \n",
      "_________________________________________________________________\n",
      "batch_normalization_5 (Batch (None, 8, 8, 128)         512       \n",
      "_________________________________________________________________\n",
      "conv2d_6 (Conv2D)            (None, 8, 8, 128)         147584    \n",
      "_________________________________________________________________\n",
      "batch_normalization_6 (Batch (None, 8, 8, 128)         512       \n",
      "_________________________________________________________________\n",
      "max_pooling2d_3 (MaxPooling2 (None, 4, 4, 128)         0         \n",
      "_________________________________________________________________\n",
      "dropout_3 (Dropout)          (None, 4, 4, 128)         0         \n",
      "_________________________________________________________________\n",
      "flatten_1 (Flatten)          (None, 2048)              0         \n",
      "_________________________________________________________________\n",
      "dense_1 (Dense)              (None, 128)               262272    \n",
      "_________________________________________________________________\n",
      "batch_normalization_7 (Batch (None, 128)               512       \n",
      "_________________________________________________________________\n",
      "dropout_4 (Dropout)          (None, 128)               0         \n",
      "_________________________________________________________________\n",
      "dense_2 (Dense)              (None, 10)                1290      \n",
      "=================================================================\n",
      "Total params: 552,874\n",
      "Trainable params: 551,722\n",
      "Non-trainable params: 1,152\n",
      "_________________________________________________________________\n"
     ]
    }
   ],
   "source": [
    "model = Sequential()\n",
    "model.add(Conv2D(32, (3, 3), activation='relu', kernel_initializer='he_uniform', padding='same', input_shape=(32, 32, 3)))\n",
    "model.add(BatchNormalization())\n",
    "model.add(Conv2D(32, (3, 3), activation='relu', kernel_initializer='he_uniform', padding='same'))\n",
    "model.add(BatchNormalization())\n",
    "model.add(MaxPooling2D((2, 2)))\n",
    "model.add(Dropout(0.2))\n",
    "model.add(Conv2D(64, (3, 3), activation='relu', kernel_initializer='he_uniform', padding='same'))\n",
    "model.add(BatchNormalization())\n",
    "model.add(Conv2D(64, (3, 3), activation='relu', kernel_initializer='he_uniform', padding='same'))\n",
    "model.add(BatchNormalization())\n",
    "model.add(MaxPooling2D((2, 2)))\n",
    "model.add(Dropout(0.3))\n",
    "model.add(Conv2D(128, (3, 3), activation='relu', kernel_initializer='he_uniform', padding='same'))\n",
    "model.add(BatchNormalization())\n",
    "model.add(Conv2D(128, (3, 3), activation='relu', kernel_initializer='he_uniform', padding='same'))\n",
    "model.add(BatchNormalization())\n",
    "model.add(MaxPooling2D((2, 2)))\n",
    "model.add(Dropout(0.4))\n",
    "model.add(Flatten())\n",
    "model.add(Dense(128, activation='relu', kernel_initializer='he_uniform'))\n",
    "model.add(BatchNormalization())\n",
    "model.add(Dropout(0.5))\n",
    "model.add(Dense(10, activation='softmax'))\n",
    "\n",
    "# Summary\n",
    "model.summary()"
   ]
  },
  {
   "cell_type": "code",
   "execution_count": 4,
   "metadata": {},
   "outputs": [
    {
     "name": "stdout",
     "output_type": "stream",
     "text": [
      "Epoch 1/50\n",
      "782/782 [==============================] - 37s 47ms/step - loss: 1.7690 - accuracy: 0.3905 - val_loss: 1.3019 - val_accuracy: 0.5296\n",
      "Epoch 2/50\n",
      "782/782 [==============================] - 29s 37ms/step - loss: 1.2572 - accuracy: 0.5461 - val_loss: 1.1306 - val_accuracy: 0.6031\n",
      "Epoch 3/50\n",
      "782/782 [==============================] - 30s 39ms/step - loss: 1.0798 - accuracy: 0.6183 - val_loss: 0.9117 - val_accuracy: 0.6752\n",
      "Epoch 4/50\n",
      "782/782 [==============================] - 30s 38ms/step - loss: 0.9488 - accuracy: 0.6674 - val_loss: 0.7600 - val_accuracy: 0.7295\n",
      "Epoch 5/50\n",
      "782/782 [==============================] - 30s 39ms/step - loss: 0.8714 - accuracy: 0.6960 - val_loss: 0.8057 - val_accuracy: 0.7250\n",
      "Epoch 6/50\n",
      "782/782 [==============================] - 29s 38ms/step - loss: 0.8005 - accuracy: 0.7229 - val_loss: 0.6932 - val_accuracy: 0.7566\n",
      "Epoch 7/50\n",
      "782/782 [==============================] - 30s 39ms/step - loss: 0.7528 - accuracy: 0.7428 - val_loss: 0.7503 - val_accuracy: 0.7440\n",
      "Epoch 8/50\n",
      "782/782 [==============================] - 29s 37ms/step - loss: 0.7158 - accuracy: 0.7542 - val_loss: 0.6959 - val_accuracy: 0.7586\n",
      "Epoch 9/50\n",
      "782/782 [==============================] - 30s 38ms/step - loss: 0.6871 - accuracy: 0.7649 - val_loss: 0.5957 - val_accuracy: 0.7952\n",
      "Epoch 10/50\n",
      "782/782 [==============================] - 29s 37ms/step - loss: 0.6560 - accuracy: 0.7759 - val_loss: 0.5736 - val_accuracy: 0.8017\n",
      "Epoch 11/50\n",
      "782/782 [==============================] - 30s 39ms/step - loss: 0.6304 - accuracy: 0.7869 - val_loss: 0.5617 - val_accuracy: 0.8095\n",
      "Epoch 12/50\n",
      "782/782 [==============================] - 29s 38ms/step - loss: 0.6193 - accuracy: 0.7901 - val_loss: 0.5673 - val_accuracy: 0.8097\n",
      "Epoch 13/50\n",
      "782/782 [==============================] - 30s 38ms/step - loss: 0.5565 - accuracy: 0.8132 - val_loss: 0.5743 - val_accuracy: 0.8096\n",
      "Epoch 16/50\n",
      "782/782 [==============================] - 30s 38ms/step - loss: 0.5526 - accuracy: 0.8115 - val_loss: 0.5618 - val_accuracy: 0.8126\n",
      "Epoch 17/50\n",
      "782/782 [==============================] - 30s 38ms/step - loss: 0.5395 - accuracy: 0.8156 - val_loss: 0.5020 - val_accuracy: 0.8313\n",
      "Epoch 18/50\n",
      "782/782 [==============================] - 29s 38ms/step - loss: 0.5322 - accuracy: 0.8196 - val_loss: 0.5033 - val_accuracy: 0.8293\n",
      "Epoch 19/50\n",
      "782/782 [==============================] - 30s 38ms/step - loss: 0.5125 - accuracy: 0.8243 - val_loss: 0.4903 - val_accuracy: 0.8412\n",
      "Epoch 20/50\n",
      "782/782 [==============================] - 29s 37ms/step - loss: 0.5105 - accuracy: 0.8262 - val_loss: 0.4519 - val_accuracy: 0.8503\n",
      "Epoch 21/50\n",
      "782/782 [==============================] - 30s 38ms/step - loss: 0.5028 - accuracy: 0.8297 - val_loss: 0.4607 - val_accuracy: 0.8449\n",
      "Epoch 22/50\n",
      "782/782 [==============================] - 29s 37ms/step - loss: 0.4933 - accuracy: 0.8324 - val_loss: 0.4817 - val_accuracy: 0.8365\n",
      "Epoch 23/50\n",
      "782/782 [==============================] - 30s 38ms/step - loss: 0.4838 - accuracy: 0.8350 - val_loss: 0.4515 - val_accuracy: 0.8475\n",
      "Epoch 24/50\n",
      "782/782 [==============================] - 29s 38ms/step - loss: 0.4754 - accuracy: 0.8369 - val_loss: 0.4011 - val_accuracy: 0.8638\n",
      "Epoch 25/50\n",
      "782/782 [==============================] - 30s 38ms/step - loss: 0.4716 - accuracy: 0.8402 - val_loss: 0.4100 - val_accuracy: 0.8608\n",
      "Epoch 26/50\n",
      "782/782 [==============================] - 29s 38ms/step - loss: 0.4616 - accuracy: 0.8446 - val_loss: 0.4808 - val_accuracy: 0.8413\n",
      "Epoch 27/50\n",
      "782/782 [==============================] - 30s 38ms/step - loss: 0.4529 - accuracy: 0.8459 - val_loss: 0.4351 - val_accuracy: 0.8571\n",
      "Epoch 28/50\n",
      "782/782 [==============================] - 30s 38ms/step - loss: 0.4524 - accuracy: 0.8467 - val_loss: 0.4274 - val_accuracy: 0.8532\n",
      "Epoch 29/50\n",
      "782/782 [==============================] - 30s 38ms/step - loss: 0.4473 - accuracy: 0.8462 - val_loss: 0.4008 - val_accuracy: 0.8648\n",
      "Epoch 30/50\n",
      "782/782 [==============================] - 30s 38ms/step - loss: 0.4425 - accuracy: 0.8497 - val_loss: 0.4216 - val_accuracy: 0.8612\n",
      "Epoch 31/50\n",
      "782/782 [==============================] - 30s 38ms/step - loss: 0.4345 - accuracy: 0.8515 - val_loss: 0.4308 - val_accuracy: 0.8578\n",
      "Epoch 32/50\n",
      "782/782 [==============================] - 30s 38ms/step - loss: 0.4338 - accuracy: 0.8537 - val_loss: 0.4212 - val_accuracy: 0.8583\n",
      "Epoch 33/50\n",
      "782/782 [==============================] - 30s 38ms/step - loss: 0.4313 - accuracy: 0.8538 - val_loss: 0.4306 - val_accuracy: 0.8602\n",
      "Epoch 34/50\n",
      "782/782 [==============================] - 30s 38ms/step - loss: 0.4253 - accuracy: 0.8558 - val_loss: 0.4260 - val_accuracy: 0.8606\n",
      "Epoch 35/50\n",
      "782/782 [==============================] - 30s 38ms/step - loss: 0.4217 - accuracy: 0.8570 - val_loss: 0.3825 - val_accuracy: 0.8709\n",
      "Epoch 36/50\n",
      "782/782 [==============================] - 30s 38ms/step - loss: 0.4193 - accuracy: 0.8581 - val_loss: 0.3968 - val_accuracy: 0.8654\n",
      "Epoch 37/50\n",
      "782/782 [==============================] - 30s 38ms/step - loss: 0.4138 - accuracy: 0.8581 - val_loss: 0.3906 - val_accuracy: 0.8710\n",
      "Epoch 38/50\n",
      "782/782 [==============================] - 29s 38ms/step - loss: 0.4099 - accuracy: 0.8624 - val_loss: 0.4257 - val_accuracy: 0.8601\n",
      "Epoch 39/50\n",
      "193/782 [======>.......................] - ETA: 20s - loss: 0.3995 - accuracy: 0.8674"
     ]
    }
   ],
   "source": [
    "# Data Augmentation\n",
    "datagen = ImageDataGenerator(width_shift_range=0.1, height_shift_range=0.1, horizontal_flip=True)\n",
    "\n",
    "# Run\n",
    "model.compile(optimizer='adam', loss='categorical_crossentropy', metrics=['accuracy'])\n",
    "history = model.fit_generator(datagen.flow(X_train, y_train, batch_size=64), epochs=50, validation_data=(X_test, y_test), verbose=1)"
   ]
  },
  {
   "cell_type": "code",
   "execution_count": 5,
   "metadata": {},
   "outputs": [
    {
     "data": {
      "text/plain": [
       "[<matplotlib.lines.Line2D at 0x7fe6f1710438>]"
      ]
     },
     "execution_count": 5,
     "metadata": {},
     "output_type": "execute_result"
    },
    {
     "data": {
      "image/png": "[encoded data removed]",
      "text/plain": [
       "<Figure size 432x288 with 2 Axes>"
      ]
     },
     "metadata": {
      "needs_background": "light"
     },
     "output_type": "display_data"
    }
   ],
   "source": [
    "# plot loss\n",
    "plt.subplot(211)\n",
    "plt.title('Cross Entropy Loss')\n",
    "plt.plot(history.history['loss'], color='blue', label='train')\n",
    "plt.plot(history.history['val_loss'], color='orange', label='test')\n",
    "# plot accuracy\n",
    "plt.subplot(212)\n",
    "plt.title('Classification Accuracy')\n",
    "plt.plot(history.history['accuracy'], color='blue', label='train')\n",
    "plt.plot(history.history['val_accuracy'], color='orange', label='test')"
   ]
  },
  {
   "cell_type": "code",
   "execution_count": 6,
   "metadata": {},
   "outputs": [],
   "source": [
    "# save model\n",
    "model.save('final_model.h5')"
   ]
  },
  {
   "cell_type": "code",
   "execution_count": null,
   "metadata": {},
   "outputs": [],
   "source": []
  }
 ],
 "metadata": {
  "kernelspec": {
   "display_name": "Python 3",
   "language": "python",
   "name": "python3"
  },
  "language_info": {
   "codemirror_mode": {
    "name": "ipython",
    "version": 3
   },
   "file_extension": ".py",
   "mimetype": "text/x-python",
   "name": "python",
   "nbconvert_exporter": "python",
   "pygments_lexer": "ipython3",
   "version": "3.6.6"
  }
 },
 "nbformat": 4,
 "nbformat_minor": 4
}
