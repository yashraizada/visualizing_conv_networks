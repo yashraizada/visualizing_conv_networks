{
 "cells": [
  {
   "cell_type": "code",
   "execution_count": 1,
   "metadata": {},
   "outputs": [
    {
     "name": "stderr",
     "output_type": "stream",
     "text": [
      "Using TensorFlow backend.\n"
     ]
    }
   ],
   "source": [
    "import os\n",
    "import numpy as np\n",
    "\n",
    "from keras.models import load_model\n",
    "from keras.datasets import cifar10\n",
    "from keras.utils import to_categorical\n",
    "\n",
    "import matplotlib.pyplot as plt\n",
    "import seaborn as sns\n",
    "\n",
    "# load model\n",
    "model = load_model('../input/final_model.h5')\n",
    "# model.summary()"
   ]
  },
  {
   "cell_type": "code",
   "execution_count": 2,
   "metadata": {},
   "outputs": [],
   "source": [
    "# Experiment Setup\n",
    "\n",
    "image_index = 1446\n",
    "obstruction_size = (4, 4, 3)\n",
    "stride = 1"
   ]
  },
  {
   "cell_type": "code",
   "execution_count": 3,
   "metadata": {},
   "outputs": [
    {
     "name": "stdout",
     "output_type": "stream",
     "text": [
      "Downloading data from https://www.cs.toronto.edu/~kriz/cifar-10-python.tar.gz\n",
      "170500096/170498071 [==============================] - 4s 0us/step\n"
     ]
    }
   ],
   "source": [
    "# load dataset\n",
    "(X_train, y_train), (X_test, y_test) = cifar10.load_data()\n",
    "X = np.vstack((X_train, X_test))\n",
    "y = np.vstack((y_train, y_test))\n",
    "\n",
    "# cache image index\n",
    "cached_image = X[image_index, :, :, :]\n",
    "\n",
    "# one hot encode target values\n",
    "y = to_categorical(y)\n",
    "\n",
    "# convert from integers to floats\n",
    "X = X.astype('float32')\n",
    "\n",
    "# normalize to range 0-1\n",
    "X = X/ 255.0"
   ]
  },
  {
   "cell_type": "code",
   "execution_count": 4,
   "metadata": {},
   "outputs": [],
   "source": [
    "heat_map = np.zeros((np.ceil(X.shape[1]-obstruction_size[0]/stride).astype(np.int), np.ceil(X.shape[2]-obstruction_size[1]/stride).astype(np.int)))\n",
    "\n",
    "for i in range(0, X.shape[1]-obstruction_size[0], stride):\n",
    "    for j in range(0, X.shape[2]-obstruction_size[1], stride):\n",
    "        image = X[image_index, :, :, :].copy()\n",
    "        image[i:i+obstruction_size[0], j:j+obstruction_size[1], :] = 0\n",
    "        prediction = model.predict(image.reshape(1, X.shape[1], X.shape[2], X.shape[3]))\n",
    "        heat_map[i,j] = 1 - prediction[0][np.argmax(y[image_index])]"
   ]
  },
  {
   "cell_type": "code",
   "execution_count": 5,
   "metadata": {},
   "outputs": [
    {
     "data": {
      "text/plain": [
       "<matplotlib.colorbar.Colorbar at 0x7fbcf8d1a320>"
      ]
     },
     "execution_count": 5,
     "metadata": {},
     "output_type": "execute_result"
    },
    {
     "data": {
      "image/png": "[encoded data removed]",
      "text/plain": [
       "<Figure size 432x288 with 3 Axes>"
      ]
     },
     "metadata": {
      "needs_background": "light"
     },
     "output_type": "display_data"
    }
   ],
   "source": [
    "fig, (ax1, ax2) = plt.subplots(1,2)\n",
    "ax1.imshow(cached_image)\n",
    "img = ax2.imshow(heat_map)\n",
    "ax2.figure.colorbar(img)"
   ]
  },
  {
   "cell_type": "code",
   "execution_count": null,
   "metadata": {},
   "outputs": [],
   "source": []
  }
 ],
 "metadata": {
  "kernelspec": {
   "display_name": "Python 3",
   "language": "python",
   "name": "python3"
  },
  "language_info": {
   "codemirror_mode": {
    "name": "ipython",
    "version": 3
   },
   "file_extension": ".py",
   "mimetype": "text/x-python",
   "name": "python",
   "nbconvert_exporter": "python",
   "pygments_lexer": "ipython3",
   "version": "3.6.6"
  }
 },
 "nbformat": 4,
 "nbformat_minor": 4
}
