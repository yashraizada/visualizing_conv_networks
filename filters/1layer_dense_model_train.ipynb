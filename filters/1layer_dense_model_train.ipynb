{
 "cells": [
  {
   "cell_type": "code",
   "execution_count": 1,
   "metadata": {
    "_cell_guid": "79c7e3d0-c299-4dcb-8224-4455121ee9b0",
    "_uuid": "d629ff2d2480ee46fbb7e2d37f6b5fab8052498a"
   },
   "outputs": [
    {
     "name": "stderr",
     "output_type": "stream",
     "text": [
      "Using TensorFlow backend.\n"
     ]
    }
   ],
   "source": [
    "import numpy as np\n",
    "import matplotlib.pyplot as plt\n",
    "\n",
    "from keras.datasets import mnist\n",
    "from keras.utils import to_categorical\n",
    "from keras.models import Sequential\n",
    "from keras.layers import Dropout, BatchNormalization, Flatten, Dense\n",
    "from keras.losses import SparseCategoricalCrossentropy"
   ]
  },
  {
   "cell_type": "code",
   "execution_count": 2,
   "metadata": {},
   "outputs": [
    {
     "name": "stdout",
     "output_type": "stream",
     "text": [
      "Downloading data from https://s3.amazonaws.com/img-datasets/mnist.npz\n",
      "11493376/11490434 [==============================] - 1s 0us/step\n"
     ]
    }
   ],
   "source": [
    "# load dataset\n",
    "(X_train, y_train), (X_test, y_test) = mnist.load_data()\n",
    "\n",
    "# one hot encode target values\n",
    "y_train = to_categorical(y_train)\n",
    "y_test = to_categorical(y_test)\n",
    "\n",
    "# convert from integers to floats\n",
    "X_train = X_train.astype('float32')\n",
    "X_test = X_test.astype('float32')\n",
    "\n",
    "# normalize to range 0-1\n",
    "X_train = X_train / 255.0\n",
    "X_test = X_test / 255.0"
   ]
  },
  {
   "cell_type": "code",
   "execution_count": 3,
   "metadata": {},
   "outputs": [
    {
     "name": "stdout",
     "output_type": "stream",
     "text": [
      "Model: \"sequential_1\"\n",
      "_________________________________________________________________\n",
      "Layer (type)                 Output Shape              Param #   \n",
      "=================================================================\n",
      "flatten_1 (Flatten)          (None, 784)               0         \n",
      "_________________________________________________________________\n",
      "dense_1 (Dense)              (None, 10)                7850      \n",
      "=================================================================\n",
      "Total params: 7,850\n",
      "Trainable params: 7,850\n",
      "Non-trainable params: 0\n",
      "_________________________________________________________________\n"
     ]
    }
   ],
   "source": [
    "model = Sequential()\n",
    "\n",
    "model.add(Flatten(input_shape=(28, 28)))\n",
    "model.add(Dense(10, activation='softmax'))\n",
    "\n",
    "model.summary()"
   ]
  },
  {
   "cell_type": "code",
   "execution_count": 4,
   "metadata": {},
   "outputs": [
    {
     "name": "stdout",
     "output_type": "stream",
     "text": [
      "Train on 60000 samples, validate on 10000 samples\n",
      "Epoch 1/30\n",
      "60000/60000 [==============================] - 2s 35us/step - loss: 0.5537 - accuracy: 0.8606 - val_loss: 0.3329 - val_accuracy: 0.9117\n",
      "Epoch 2/30\n",
      "60000/60000 [==============================] - 2s 29us/step - loss: 0.3249 - accuracy: 0.9100 - val_loss: 0.2965 - val_accuracy: 0.9174\n",
      "Epoch 3/30\n",
      "60000/60000 [==============================] - 2s 29us/step - loss: 0.2961 - accuracy: 0.9174 - val_loss: 0.2816 - val_accuracy: 0.9235\n",
      "Epoch 4/30\n",
      "60000/60000 [==============================] - 2s 29us/step - loss: 0.2828 - accuracy: 0.9206 - val_loss: 0.2716 - val_accuracy: 0.9253\n",
      "Epoch 5/30\n",
      "60000/60000 [==============================] - 2s 29us/step - loss: 0.2738 - accuracy: 0.9237 - val_loss: 0.2727 - val_accuracy: 0.9238\n",
      "Epoch 6/30\n",
      "60000/60000 [==============================] - 2s 29us/step - loss: 0.2682 - accuracy: 0.9252 - val_loss: 0.2682 - val_accuracy: 0.9266\n",
      "Epoch 7/30\n",
      "60000/60000 [==============================] - 2s 29us/step - loss: 0.2639 - accuracy: 0.9266 - val_loss: 0.2677 - val_accuracy: 0.9246\n",
      "Epoch 8/30\n",
      "60000/60000 [==============================] - 2s 29us/step - loss: 0.2603 - accuracy: 0.9270 - val_loss: 0.2661 - val_accuracy: 0.9234\n",
      "Epoch 9/30\n",
      "60000/60000 [==============================] - 2s 29us/step - loss: 0.2572 - accuracy: 0.9283 - val_loss: 0.2648 - val_accuracy: 0.9256\n",
      "Epoch 10/30\n",
      "60000/60000 [==============================] - 2s 29us/step - loss: 0.2548 - accuracy: 0.9291 - val_loss: 0.2667 - val_accuracy: 0.9267\n",
      "Epoch 11/30\n",
      "60000/60000 [==============================] - 2s 30us/step - loss: 0.2529 - accuracy: 0.9302 - val_loss: 0.2659 - val_accuracy: 0.9263\n",
      "Epoch 12/30\n",
      "60000/60000 [==============================] - 2s 29us/step - loss: 0.2511 - accuracy: 0.9309 - val_loss: 0.2630 - val_accuracy: 0.9274\n",
      "Epoch 13/30\n",
      "60000/60000 [==============================] - 2s 31us/step - loss: 0.2491 - accuracy: 0.9311 - val_loss: 0.2618 - val_accuracy: 0.9272\n",
      "Epoch 14/30\n",
      "60000/60000 [==============================] - 2s 31us/step - loss: 0.2478 - accuracy: 0.9320 - val_loss: 0.2652 - val_accuracy: 0.9256\n",
      "Epoch 15/30\n",
      "60000/60000 [==============================] - 2s 31us/step - loss: 0.2468 - accuracy: 0.9319 - val_loss: 0.2633 - val_accuracy: 0.9272\n",
      "Epoch 16/30\n",
      "60000/60000 [==============================] - 2s 31us/step - loss: 0.2457 - accuracy: 0.9323 - val_loss: 0.2628 - val_accuracy: 0.9278\n",
      "Epoch 17/30\n",
      "60000/60000 [==============================] - 2s 32us/step - loss: 0.2442 - accuracy: 0.9329 - val_loss: 0.2630 - val_accuracy: 0.9274\n",
      "Epoch 18/30\n",
      "60000/60000 [==============================] - 2s 31us/step - loss: 0.2437 - accuracy: 0.9329 - val_loss: 0.2638 - val_accuracy: 0.9267\n",
      "Epoch 19/30\n",
      "60000/60000 [==============================] - 2s 29us/step - loss: 0.2429 - accuracy: 0.9327 - val_loss: 0.2659 - val_accuracy: 0.9269\n",
      "Epoch 20/30\n",
      "60000/60000 [==============================] - 2s 29us/step - loss: 0.2415 - accuracy: 0.9331 - val_loss: 0.2665 - val_accuracy: 0.9265\n",
      "Epoch 21/30\n",
      "60000/60000 [==============================] - 2s 29us/step - loss: 0.2410 - accuracy: 0.9334 - val_loss: 0.2670 - val_accuracy: 0.9264\n",
      "Epoch 22/30\n",
      "60000/60000 [==============================] - 2s 29us/step - loss: 0.2403 - accuracy: 0.9338 - val_loss: 0.2643 - val_accuracy: 0.9287\n",
      "Epoch 23/30\n",
      "60000/60000 [==============================] - 2s 29us/step - loss: 0.2395 - accuracy: 0.9342 - val_loss: 0.2642 - val_accuracy: 0.9270\n",
      "Epoch 24/30\n",
      "60000/60000 [==============================] - 2s 29us/step - loss: 0.2387 - accuracy: 0.9339 - val_loss: 0.2675 - val_accuracy: 0.9277\n",
      "Epoch 25/30\n",
      "60000/60000 [==============================] - 2s 29us/step - loss: 0.2382 - accuracy: 0.9344 - val_loss: 0.2658 - val_accuracy: 0.9288\n",
      "Epoch 26/30\n",
      "60000/60000 [==============================] - 2s 29us/step - loss: 0.2377 - accuracy: 0.9350 - val_loss: 0.2661 - val_accuracy: 0.9273\n",
      "Epoch 27/30\n",
      "60000/60000 [==============================] - 2s 28us/step - loss: 0.2370 - accuracy: 0.9348 - val_loss: 0.2682 - val_accuracy: 0.9281\n",
      "Epoch 28/30\n",
      "60000/60000 [==============================] - 2s 29us/step - loss: 0.2366 - accuracy: 0.9349 - val_loss: 0.2665 - val_accuracy: 0.9282\n",
      "Epoch 29/30\n",
      "60000/60000 [==============================] - 2s 31us/step - loss: 0.2364 - accuracy: 0.9349 - val_loss: 0.2694 - val_accuracy: 0.9263\n",
      "Epoch 30/30\n",
      "60000/60000 [==============================] - 2s 29us/step - loss: 0.2355 - accuracy: 0.9352 - val_loss: 0.2666 - val_accuracy: 0.9276\n"
     ]
    }
   ],
   "source": [
    "# Run\n",
    "model.compile(optimizer='adam', loss='categorical_crossentropy', metrics=['accuracy'])\n",
    "history = model.fit(X_train, y_train, batch_size=64, epochs=30, validation_data=(X_test, y_test), verbose=1)"
   ]
  },
  {
   "cell_type": "code",
   "execution_count": 5,
   "metadata": {},
   "outputs": [
    {
     "data": {
      "image/png": "[encoded data removed]",
      "text/plain": [
       "<Figure size 720x720 with 2 Axes>"
      ]
     },
     "metadata": {
      "needs_background": "light"
     },
     "output_type": "display_data"
    }
   ],
   "source": [
    "f, (ax1, ax2) = plt.subplots(2,1,figsize=(10,10))\n",
    "\n",
    "# plot loss\n",
    "plt.title('Cross Entropy Loss')\n",
    "ax1.plot(history.history['loss'], color='blue', label='train')\n",
    "ax1.plot(history.history['val_loss'], color='orange', label='test')\n",
    "ax1.legend(('Train Loss', 'Test loss'))\n",
    "\n",
    "# plot accuracy\n",
    "plt.title('Classification Accuracy')\n",
    "ax2.plot(history.history['accuracy'], color='blue', label='train')\n",
    "ax2.plot(history.history['val_accuracy'], color='orange', label='test')\n",
    "ax2.legend(('Train Acc', 'Test Acc'))\n",
    "\n",
    "plt.figsize = (10,10)"
   ]
  },
  {
   "cell_type": "code",
   "execution_count": 6,
   "metadata": {},
   "outputs": [],
   "source": [
    "# save model\n",
    "model.save('1layer_dense_model.h5')"
   ]
  }
 ],
 "metadata": {
  "kernelspec": {
   "display_name": "Python 3",
   "language": "python",
   "name": "python3"
  },
  "language_info": {
   "codemirror_mode": {
    "name": "ipython",
    "version": 3
   },
   "file_extension": ".py",
   "mimetype": "text/x-python",
   "name": "python",
   "nbconvert_exporter": "python",
   "pygments_lexer": "ipython3",
   "version": "3.6.6"
  }
 },
 "nbformat": 4,
 "nbformat_minor": 4
}
