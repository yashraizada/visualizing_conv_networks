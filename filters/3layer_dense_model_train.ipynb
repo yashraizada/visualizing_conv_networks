{
 "cells": [
  {
   "cell_type": "code",
   "execution_count": 1,
   "metadata": {
    "_cell_guid": "79c7e3d0-c299-4dcb-8224-4455121ee9b0",
    "_uuid": "d629ff2d2480ee46fbb7e2d37f6b5fab8052498a"
   },
   "outputs": [
    {
     "name": "stderr",
     "output_type": "stream",
     "text": [
      "Using TensorFlow backend.\n"
     ]
    }
   ],
   "source": [
    "import numpy as np\n",
    "import matplotlib.pyplot as plt\n",
    "\n",
    "from keras.datasets import mnist\n",
    "from keras.utils import to_categorical\n",
    "from keras.models import Sequential\n",
    "from keras.layers import Dropout, BatchNormalization, Flatten, Dense\n",
    "from keras.losses import SparseCategoricalCrossentropy"
   ]
  },
  {
   "cell_type": "code",
   "execution_count": 2,
   "metadata": {},
   "outputs": [
    {
     "name": "stdout",
     "output_type": "stream",
     "text": [
      "Downloading data from https://s3.amazonaws.com/img-datasets/mnist.npz\n",
      "11493376/11490434 [==============================] - 2s 0us/step\n"
     ]
    }
   ],
   "source": [
    "# load dataset\n",
    "(X_train, y_train), (X_test, y_test) = mnist.load_data()\n",
    "\n",
    "# one hot encode target values\n",
    "y_train = to_categorical(y_train)\n",
    "y_test = to_categorical(y_test)\n",
    "\n",
    "# convert from integers to floats\n",
    "X_train = X_train.astype('float32')\n",
    "X_test = X_test.astype('float32')\n",
    "\n",
    "# normalize to range 0-1\n",
    "X_train = X_train / 255.0\n",
    "X_test = X_test / 255.0"
   ]
  },
  {
   "cell_type": "code",
   "execution_count": 3,
   "metadata": {},
   "outputs": [
    {
     "name": "stdout",
     "output_type": "stream",
     "text": [
      "Model: \"sequential_1\"\n",
      "_________________________________________________________________\n",
      "Layer (type)                 Output Shape              Param #   \n",
      "=================================================================\n",
      "flatten_1 (Flatten)          (None, 784)               0         \n",
      "_________________________________________________________________\n",
      "dense_1 (Dense)              (None, 256)               200960    \n",
      "_________________________________________________________________\n",
      "dropout_1 (Dropout)          (None, 256)               0         \n",
      "_________________________________________________________________\n",
      "dense_2 (Dense)              (None, 64)                16448     \n",
      "_________________________________________________________________\n",
      "dropout_2 (Dropout)          (None, 64)                0         \n",
      "_________________________________________________________________\n",
      "dense_3 (Dense)              (None, 10)                650       \n",
      "=================================================================\n",
      "Total params: 218,058\n",
      "Trainable params: 218,058\n",
      "Non-trainable params: 0\n",
      "_________________________________________________________________\n"
     ]
    }
   ],
   "source": [
    "model = Sequential()\n",
    "\n",
    "model.add(Flatten(input_shape=(28, 28)))\n",
    "model.add(Dense(256, activation='relu'))\n",
    "model.add(Dropout(0.5))\n",
    "model.add(Dense(64, activation='relu'))\n",
    "model.add(Dropout(0.5))\n",
    "model.add(Dense(10, activation='softmax'))\n",
    "\n",
    "model.summary()"
   ]
  },
  {
   "cell_type": "code",
   "execution_count": 4,
   "metadata": {},
   "outputs": [
    {
     "name": "stdout",
     "output_type": "stream",
     "text": [
      "Train on 60000 samples, validate on 10000 samples\n",
      "Epoch 1/50\n",
      "60000/60000 [==============================] - 5s 88us/step - loss: 0.5219 - accuracy: 0.8410 - val_loss: 0.1679 - val_accuracy: 0.9504\n",
      "Epoch 2/50\n",
      "60000/60000 [==============================] - 5s 79us/step - loss: 0.2607 - accuracy: 0.9264 - val_loss: 0.1313 - val_accuracy: 0.9607\n",
      "Epoch 3/50\n",
      "60000/60000 [==============================] - 4s 74us/step - loss: 0.2080 - accuracy: 0.9421 - val_loss: 0.1107 - val_accuracy: 0.9661\n",
      "Epoch 4/50\n",
      "60000/60000 [==============================] - 4s 75us/step - loss: 0.1767 - accuracy: 0.9503 - val_loss: 0.1067 - val_accuracy: 0.9697\n",
      "Epoch 5/50\n",
      "60000/60000 [==============================] - 5s 75us/step - loss: 0.1651 - accuracy: 0.9539 - val_loss: 0.0900 - val_accuracy: 0.9735\n",
      "Epoch 6/50\n",
      "60000/60000 [==============================] - 4s 74us/step - loss: 0.1485 - accuracy: 0.9578 - val_loss: 0.0824 - val_accuracy: 0.9754\n",
      "Epoch 7/50\n",
      "60000/60000 [==============================] - 5s 78us/step - loss: 0.1429 - accuracy: 0.9591 - val_loss: 0.0846 - val_accuracy: 0.9757\n",
      "Epoch 8/50\n",
      "60000/60000 [==============================] - 5s 77us/step - loss: 0.1324 - accuracy: 0.9632 - val_loss: 0.0831 - val_accuracy: 0.9764\n",
      "Epoch 9/50\n",
      "60000/60000 [==============================] - 5s 77us/step - loss: 0.1252 - accuracy: 0.9630 - val_loss: 0.0829 - val_accuracy: 0.9767\n",
      "Epoch 10/50\n",
      "60000/60000 [==============================] - 4s 75us/step - loss: 0.1206 - accuracy: 0.9652 - val_loss: 0.0799 - val_accuracy: 0.9794\n",
      "Epoch 11/50\n",
      "60000/60000 [==============================] - 4s 74us/step - loss: 0.1156 - accuracy: 0.9670 - val_loss: 0.0790 - val_accuracy: 0.9777\n",
      "Epoch 12/50\n",
      "60000/60000 [==============================] - 5s 76us/step - loss: 0.1124 - accuracy: 0.9678 - val_loss: 0.0818 - val_accuracy: 0.9776\n",
      "Epoch 13/50\n",
      "60000/60000 [==============================] - 5s 80us/step - loss: 0.1064 - accuracy: 0.9690 - val_loss: 0.0859 - val_accuracy: 0.9773\n",
      "Epoch 14/50\n",
      "60000/60000 [==============================] - 5s 79us/step - loss: 0.1013 - accuracy: 0.9703 - val_loss: 0.0832 - val_accuracy: 0.9788\n",
      "Epoch 15/50\n",
      "60000/60000 [==============================] - 4s 61us/step - loss: 0.1020 - accuracy: 0.9704 - val_loss: 0.0875 - val_accuracy: 0.9766\n",
      "Epoch 16/50\n",
      "60000/60000 [==============================] - 4s 59us/step - loss: 0.0965 - accuracy: 0.9714 - val_loss: 0.0859 - val_accuracy: 0.9780\n",
      "Epoch 17/50\n",
      "60000/60000 [==============================] - 4s 60us/step - loss: 0.0979 - accuracy: 0.9718 - val_loss: 0.0779 - val_accuracy: 0.9789\n",
      "Epoch 18/50\n",
      "60000/60000 [==============================] - 4s 59us/step - loss: 0.0917 - accuracy: 0.9729 - val_loss: 0.0793 - val_accuracy: 0.9791\n",
      "Epoch 19/50\n",
      "60000/60000 [==============================] - 4s 60us/step - loss: 0.0893 - accuracy: 0.9729 - val_loss: 0.0862 - val_accuracy: 0.9781\n",
      "Epoch 20/50\n",
      "60000/60000 [==============================] - 4s 60us/step - loss: 0.0863 - accuracy: 0.9741 - val_loss: 0.0776 - val_accuracy: 0.9793\n",
      "Epoch 21/50\n",
      "60000/60000 [==============================] - 4s 59us/step - loss: 0.0852 - accuracy: 0.9750 - val_loss: 0.0780 - val_accuracy: 0.9802\n",
      "Epoch 22/50\n",
      "60000/60000 [==============================] - 4s 62us/step - loss: 0.0888 - accuracy: 0.9745 - val_loss: 0.0847 - val_accuracy: 0.9775\n",
      "Epoch 23/50\n",
      "60000/60000 [==============================] - 4s 63us/step - loss: 0.0835 - accuracy: 0.9754 - val_loss: 0.0835 - val_accuracy: 0.9802\n",
      "Epoch 24/50\n",
      "60000/60000 [==============================] - 4s 63us/step - loss: 0.0820 - accuracy: 0.9761 - val_loss: 0.0805 - val_accuracy: 0.9800\n",
      "Epoch 25/50\n",
      "60000/60000 [==============================] - 4s 63us/step - loss: 0.0781 - accuracy: 0.9768 - val_loss: 0.0859 - val_accuracy: 0.9800\n",
      "Epoch 26/50\n",
      "60000/60000 [==============================] - 4s 62us/step - loss: 0.0799 - accuracy: 0.9758 - val_loss: 0.0873 - val_accuracy: 0.9812\n",
      "Epoch 27/50\n",
      "60000/60000 [==============================] - 4s 61us/step - loss: 0.0792 - accuracy: 0.9760 - val_loss: 0.0887 - val_accuracy: 0.9804\n",
      "Epoch 28/50\n",
      "60000/60000 [==============================] - 4s 62us/step - loss: 0.0748 - accuracy: 0.9776 - val_loss: 0.0856 - val_accuracy: 0.9805\n",
      "Epoch 29/50\n",
      "60000/60000 [==============================] - 4s 64us/step - loss: 0.0761 - accuracy: 0.9772 - val_loss: 0.0939 - val_accuracy: 0.9793\n",
      "Epoch 30/50\n",
      "60000/60000 [==============================] - 4s 63us/step - loss: 0.0765 - accuracy: 0.9776 - val_loss: 0.0919 - val_accuracy: 0.9805\n",
      "Epoch 31/50\n",
      "60000/60000 [==============================] - 4s 62us/step - loss: 0.0713 - accuracy: 0.9779 - val_loss: 0.0896 - val_accuracy: 0.9793\n",
      "Epoch 32/50\n",
      "60000/60000 [==============================] - 4s 63us/step - loss: 0.0731 - accuracy: 0.9786 - val_loss: 0.0866 - val_accuracy: 0.9803\n",
      "Epoch 33/50\n",
      "60000/60000 [==============================] - 4s 63us/step - loss: 0.0717 - accuracy: 0.9786 - val_loss: 0.0960 - val_accuracy: 0.9804\n",
      "Epoch 34/50\n",
      "60000/60000 [==============================] - 4s 61us/step - loss: 0.0696 - accuracy: 0.9794 - val_loss: 0.0857 - val_accuracy: 0.9807\n",
      "Epoch 35/50\n",
      "60000/60000 [==============================] - 4s 62us/step - loss: 0.0697 - accuracy: 0.9793 - val_loss: 0.0943 - val_accuracy: 0.9799\n",
      "Epoch 36/50\n",
      "60000/60000 [==============================] - 4s 62us/step - loss: 0.0700 - accuracy: 0.9795 - val_loss: 0.0903 - val_accuracy: 0.9812\n",
      "Epoch 37/50\n",
      "60000/60000 [==============================] - 4s 61us/step - loss: 0.0676 - accuracy: 0.9793 - val_loss: 0.0889 - val_accuracy: 0.9795\n",
      "Epoch 38/50\n",
      "60000/60000 [==============================] - 4s 64us/step - loss: 0.0707 - accuracy: 0.9787 - val_loss: 0.0864 - val_accuracy: 0.9813\n",
      "Epoch 39/50\n",
      "60000/60000 [==============================] - 4s 63us/step - loss: 0.0621 - accuracy: 0.9807 - val_loss: 0.0884 - val_accuracy: 0.9799\n",
      "Epoch 40/50\n",
      "60000/60000 [==============================] - 4s 62us/step - loss: 0.0653 - accuracy: 0.9808 - val_loss: 0.0955 - val_accuracy: 0.9802\n",
      "Epoch 41/50\n",
      "60000/60000 [==============================] - 4s 63us/step - loss: 0.0689 - accuracy: 0.9795 - val_loss: 0.0848 - val_accuracy: 0.9814\n",
      "Epoch 42/50\n",
      "60000/60000 [==============================] - 4s 64us/step - loss: 0.0646 - accuracy: 0.9808 - val_loss: 0.0951 - val_accuracy: 0.9804\n",
      "Epoch 43/50\n",
      "60000/60000 [==============================] - 4s 62us/step - loss: 0.0636 - accuracy: 0.9812 - val_loss: 0.0899 - val_accuracy: 0.9810\n",
      "Epoch 44/50\n",
      "60000/60000 [==============================] - 4s 63us/step - loss: 0.0637 - accuracy: 0.9804 - val_loss: 0.0987 - val_accuracy: 0.9795\n",
      "Epoch 45/50\n",
      "60000/60000 [==============================] - 4s 62us/step - loss: 0.0643 - accuracy: 0.9810 - val_loss: 0.0927 - val_accuracy: 0.9795\n",
      "Epoch 46/50\n",
      "60000/60000 [==============================] - 4s 61us/step - loss: 0.0649 - accuracy: 0.9813 - val_loss: 0.0930 - val_accuracy: 0.9811\n",
      "Epoch 47/50\n",
      "60000/60000 [==============================] - 4s 62us/step - loss: 0.0586 - accuracy: 0.9824 - val_loss: 0.0998 - val_accuracy: 0.9802\n",
      "Epoch 48/50\n",
      "60000/60000 [==============================] - 4s 61us/step - loss: 0.0628 - accuracy: 0.9809 - val_loss: 0.1004 - val_accuracy: 0.9802\n",
      "Epoch 49/50\n",
      "60000/60000 [==============================] - 4s 62us/step - loss: 0.0594 - accuracy: 0.9814 - val_loss: 0.0939 - val_accuracy: 0.9800\n",
      "Epoch 50/50\n",
      "60000/60000 [==============================] - 4s 64us/step - loss: 0.0593 - accuracy: 0.9822 - val_loss: 0.0943 - val_accuracy: 0.9812\n"
     ]
    }
   ],
   "source": [
    "# Run\n",
    "model.compile(optimizer='adam', loss='categorical_crossentropy', metrics=['accuracy'])\n",
    "history = model.fit(X_train, y_train, batch_size=64, epochs=50, validation_data=(X_test, y_test), verbose=1)"
   ]
  },
  {
   "cell_type": "code",
   "execution_count": 5,
   "metadata": {},
   "outputs": [
    {
     "data": {
      "image/png": "[encoded data removed]",
      "text/plain": [
       "<Figure size 720x720 with 2 Axes>"
      ]
     },
     "metadata": {
      "needs_background": "light"
     },
     "output_type": "display_data"
    }
   ],
   "source": [
    "f, (ax1, ax2) = plt.subplots(2,1,figsize=(10,10))\n",
    "\n",
    "# plot loss\n",
    "plt.title('Cross Entropy Loss')\n",
    "ax1.plot(history.history['loss'], color='blue', label='train')\n",
    "ax1.plot(history.history['val_loss'], color='orange', label='test')\n",
    "ax1.legend(('Train Loss', 'Test loss'))\n",
    "\n",
    "# plot accuracy\n",
    "plt.title('Classification Accuracy')\n",
    "ax2.plot(history.history['accuracy'], color='blue', label='train')\n",
    "ax2.plot(history.history['val_accuracy'], color='orange', label='test')\n",
    "ax2.legend(('Train Acc', 'Test Acc'))\n",
    "\n",
    "plt.figsize = (10,10)"
   ]
  },
  {
   "cell_type": "code",
   "execution_count": 6,
   "metadata": {},
   "outputs": [],
   "source": [
    "# save model\n",
    "model.save('3layer_dense_model.h5')"
   ]
  }
 ],
 "metadata": {
  "kernelspec": {
   "display_name": "Python 3",
   "language": "python",
   "name": "python3"
  },
  "language_info": {
   "codemirror_mode": {
    "name": "ipython",
    "version": 3
   },
   "file_extension": ".py",
   "mimetype": "text/x-python",
   "name": "python",
   "nbconvert_exporter": "python",
   "pygments_lexer": "ipython3",
   "version": "3.6.6"
  }
 },
 "nbformat": 4,
 "nbformat_minor": 4
}
